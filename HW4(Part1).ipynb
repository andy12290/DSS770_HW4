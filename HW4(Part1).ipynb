{
 "cells": [
  {
   "cell_type": "markdown",
   "metadata": {},
   "source": [
    "* Name: Aniket Kale\n",
    "* Class : DSS770\n",
    "* Functions    "
   ]
  },
  {
   "cell_type": "markdown",
   "metadata": {},
   "source": [
    "# Problems Pages 157-164 : Odd examples"
   ]
  },
  {
   "cell_type": "markdown",
   "metadata": {},
   "source": [
    "\"To create architecture is to put in order. Put what in order? Function\n",
    "and objects.\" Le Corbusier"
   ]
  },
  {
   "cell_type": "raw",
   "metadata": {},
   "source": [
    "What is function ?\n",
    "Function is block, set of code or instructions to execute in order to get the output."
   ]
  },
  {
   "cell_type": "code",
   "execution_count": 4,
   "metadata": {
    "collapsed": false
   },
   "outputs": [],
   "source": [
    "# sample example not from book.\n",
    "def addition(a,b):\n",
    "    c = a+b\n",
    "    return c"
   ]
  },
  {
   "cell_type": "code",
   "execution_count": 5,
   "metadata": {
    "collapsed": false
   },
   "outputs": [
    {
     "data": {
      "text/plain": [
       "7"
      ]
     },
     "execution_count": 5,
     "metadata": {},
     "output_type": "execute_result"
    }
   ],
   "source": [
    "addition(3,4)"
   ]
  },
  {
   "cell_type": "code",
   "execution_count": 1,
   "metadata": {
    "collapsed": true
   },
   "outputs": [],
   "source": [
    "def main():\n",
    "    print(uc('h'))\n",
    "    print(uc('w'))    "
   ]
  },
  {
   "cell_type": "code",
   "execution_count": 6,
   "metadata": {
    "collapsed": true
   },
   "outputs": [],
   "source": [
    "def uc(letter):\n",
    "    if letter == \"h\":\n",
    "        return H\n",
    "    else:\n",
    "        return letter    "
   ]
  },
  {
   "cell_type": "code",
   "execution_count": 12,
   "metadata": {
    "collapsed": false
   },
   "outputs": [
    {
     "data": {
      "text/plain": [
       "'Aniket'"
      ]
     },
     "execution_count": 12,
     "metadata": {},
     "output_type": "execute_result"
    }
   ],
   "source": [
    "uc('Aniket')"
   ]
  },
  {
   "cell_type": "code",
   "execution_count": 24,
   "metadata": {
    "collapsed": true
   },
   "outputs": [],
   "source": [
    "def example():\n",
    "    p = float(input(\"Enter the population growth as a percent: \"))\n",
    "    print('the Population will double', end=\" \")\n",
    "    print('in about years.',(doublingtime(p)))\n",
    "def doublingtime(x):\n",
    "    time = 72/x\n",
    "    return time"
   ]
  },
  {
   "cell_type": "code",
   "execution_count": 25,
   "metadata": {
    "collapsed": false
   },
   "outputs": [
    {
     "name": "stdout",
     "output_type": "stream",
     "text": [
      "Enter the population growth as a percent: 2\n",
      "the Population will double in about years. 36.0\n"
     ]
    }
   ],
   "source": [
    "example()"
   ]
  },
  {
   "cell_type": "code",
   "execution_count": 28,
   "metadata": {
    "collapsed": true
   },
   "outputs": [],
   "source": [
    "def main():\n",
    "    taxincome = 16000\n",
    "    print('your income tax is $',(statTax(taxincome)))\n",
    "def statTax(income):\n",
    "    if income < 15000:\n",
    "        return 0.03 * income\n",
    "    else:\n",
    "        return 450 +(0.49* (income-15000))\n",
    "    "
   ]
  },
  {
   "cell_type": "code",
   "execution_count": 29,
   "metadata": {
    "collapsed": false
   },
   "outputs": [
    {
     "name": "stdout",
     "output_type": "stream",
     "text": [
      "your income tax is $ 940.0\n"
     ]
    }
   ],
   "source": [
    "main()"
   ]
  },
  {
   "cell_type": "code",
   "execution_count": 32,
   "metadata": {
    "collapsed": true
   },
   "outputs": [],
   "source": [
    "def main():\n",
    "    questions()\n",
    "    answer()\n",
    "def answer():\n",
    "    print('my name is Aniket')\n",
    "    print('Kale')\n",
    "def questions():\n",
    "    print('what is your name ?')"
   ]
  },
  {
   "cell_type": "code",
   "execution_count": 33,
   "metadata": {
    "collapsed": false
   },
   "outputs": [
    {
     "name": "stdout",
     "output_type": "stream",
     "text": [
      "what is your name ?\n",
      "my name is Aniket\n",
      "Kale\n"
     ]
    }
   ],
   "source": [
    "main()"
   ]
  },
  {
   "cell_type": "code",
   "execution_count": 34,
   "metadata": {
    "collapsed": true
   },
   "outputs": [],
   "source": [
    "def main():\n",
    "    sentence(168, 'hour', 'a week')\n",
    "    sentence(76, 'trembone', 'the big parde')\n",
    "def sentence(num, thing, where):\n",
    "    print(num, thing + 's in' , where)\n",
    "    "
   ]
  },
  {
   "cell_type": "code",
   "execution_count": 35,
   "metadata": {
    "collapsed": false
   },
   "outputs": [
    {
     "name": "stdout",
     "output_type": "stream",
     "text": [
      "168 hours in a week\n",
      "76 trembones in the big parde\n"
     ]
    }
   ],
   "source": [
    "main()"
   ]
  },
  {
   "cell_type": "code",
   "execution_count": 36,
   "metadata": {
    "collapsed": true
   },
   "outputs": [],
   "source": [
    "def main():\n",
    "    press = 'Bush'\n",
    "    college = \"Yale\"\n",
    "    pressAlmamatter(press, college)\n",
    "    press = 'obama'\n",
    "    college = 'columbia'\n",
    "    pressAlmamatter(press,college)\n",
    "def pressAlmamatter(press, college):\n",
    "    print('president', press, 'is graduate of', college)"
   ]
  },
  {
   "cell_type": "code",
   "execution_count": 37,
   "metadata": {
    "collapsed": false
   },
   "outputs": [
    {
     "name": "stdout",
     "output_type": "stream",
     "text": [
      "president Bush is graduate of Yale\n",
      "president obama is graduate of columbia\n"
     ]
    }
   ],
   "source": [
    "main()"
   ]
  },
  {
   "cell_type": "code",
   "execution_count": 38,
   "metadata": {
    "collapsed": true
   },
   "outputs": [],
   "source": [
    "x = 7\n",
    "def main():\n",
    "    x = 5\n",
    "    f ()\n",
    "    print(x)\n",
    "def f():\n",
    "    print(x)\n",
    "    "
   ]
  },
  {
   "cell_type": "code",
   "execution_count": 39,
   "metadata": {
    "collapsed": false
   },
   "outputs": [
    {
     "name": "stdout",
     "output_type": "stream",
     "text": [
      "7\n",
      "5\n"
     ]
    }
   ],
   "source": [
    "main()"
   ]
  },
  {
   "cell_type": "code",
   "execution_count": 40,
   "metadata": {
    "collapsed": false
   },
   "outputs": [
    {
     "name": "stdout",
     "output_type": "stream",
     "text": [
      "Fredrick\n"
     ]
    }
   ],
   "source": [
    "name = 'Fred'\n",
    "def main():\n",
    "    global name \n",
    "    otherName = getname()\n",
    "    name += otherName\n",
    "    print(name)\n",
    "def getname():\n",
    "    name = \"rick\"\n",
    "    return name\n",
    "main()"
   ]
  },
  {
   "cell_type": "code",
   "execution_count": 46,
   "metadata": {
    "collapsed": false
   },
   "outputs": [],
   "source": [
    "Sales_tax_rate = 0.06\n",
    "def main():\n",
    "    price = 100\n",
    "    cost = (1+ Sales_tax_rate) * price\n",
    "    print(\"Total cost:\",(cost))"
   ]
  },
  {
   "cell_type": "code",
   "execution_count": 47,
   "metadata": {
    "collapsed": false
   },
   "outputs": [
    {
     "name": "stdout",
     "output_type": "stream",
     "text": [
      "Total cost: 106.0\n"
     ]
    }
   ],
   "source": [
    "main()"
   ]
  },
  {
   "cell_type": "code",
   "execution_count": 58,
   "metadata": {
    "collapsed": false
   },
   "outputs": [],
   "source": [
    "def main():\n",
    "    num = 5\n",
    "    triple(num)\n",
    "    print(num)\n",
    "def triple(num):\n",
    "    num = 3*num"
   ]
  },
  {
   "cell_type": "code",
   "execution_count": 59,
   "metadata": {
    "collapsed": false
   },
   "outputs": [
    {
     "name": "stdout",
     "output_type": "stream",
     "text": [
      "5\n"
     ]
    }
   ],
   "source": [
    "main()"
   ]
  },
  {
   "cell_type": "code",
   "execution_count": 68,
   "metadata": {
    "collapsed": false
   },
   "outputs": [],
   "source": [
    "# file processing\n",
    "def obtainlist(file):\n",
    "    infile = open(\"Independence(1).txt\",'r')\n",
    "    independentlist = [line.rstrip() for line in infile]\n",
    "    infile.close()\n",
    "    return independentlist"
   ]
  },
  {
   "cell_type": "code",
   "execution_count": 69,
   "metadata": {
    "collapsed": false
   },
   "outputs": [
    {
     "data": {
      "text/plain": [
       "['When', 'in', 'the', 'course', 'of', 'human', 'events']"
      ]
     },
     "execution_count": 69,
     "metadata": {},
     "output_type": "execute_result"
    }
   ],
   "source": [
    "obtainlist(\"Independence(1).txt\")"
   ]
  },
  {
   "cell_type": "code",
   "execution_count": 77,
   "metadata": {
    "collapsed": false
   },
   "outputs": [],
   "source": [
    "# Calculate the Grade 23\n",
    "\n",
    "def main():\n",
    "    grade = getAverageGrade()\n",
    "    typeOfStudent =getTypeOfStudent()\n",
    "    if typeOfStudent == \"PASS/FAIL\":\n",
    "        semesterGrade = calculatePFgrade(grade)\n",
    "    else:\n",
    "        semesterGrade = calculateLettergrade(grade)\n",
    "    print('semestergrade', semesterGrade)  \n",
    "    \n",
    "def getAverageGrade():\n",
    "    midterm = int(input(\"Enter marks for the midterm :\"))\n",
    "    final = int(input(\"Enter marks for the final :\"))\n",
    "    return round((midterm + final)/ 2)\n",
    "              \n",
    "def getTypeOfStudent():\n",
    "    prompt = \"Enter type of student Pass/fail or letter :\"\n",
    "    typeOfStudent = input(prompt)\n",
    "    return typeOfStudent.upper()\n",
    "def calculatePFgrade(grade):\n",
    "    if grade >= '60':\n",
    "        return \"pass\"\n",
    "    else:\n",
    "        return \"fail\"\n",
    "\n",
    "def calculateLettergrade(grade):\n",
    "    if grade >= 90:\n",
    "        return \"A\"\n",
    "    elif grade >= 80:\n",
    "        return \"B\"\n",
    "    else:\n",
    "        return \"C\"\n",
    "   "
   ]
  },
  {
   "cell_type": "code",
   "execution_count": 78,
   "metadata": {
    "collapsed": false
   },
   "outputs": [
    {
     "name": "stdout",
     "output_type": "stream",
     "text": [
      "Enter marks for the midterm :90\n",
      "Enter marks for the final :90\n",
      "Enter type of student Pass/fail or letter :pass\n",
      "semestergrade A\n"
     ]
    }
   ],
   "source": [
    "main()"
   ]
  },
  {
   "cell_type": "code",
   "execution_count": 79,
   "metadata": {
    "collapsed": false
   },
   "outputs": [
    {
     "name": "stdout",
     "output_type": "stream",
     "text": [
      "Enter marks for the midterm :60\n",
      "Enter marks for the final :9\n",
      "Enter type of student Pass/fail or letter :Fail\n",
      "semestergrade C\n"
     ]
    }
   ],
   "source": [
    "# testing another loop for fail\n",
    "main()"
   ]
  },
  {
   "cell_type": "code",
   "execution_count": 100,
   "metadata": {
    "collapsed": false
   },
   "outputs": [],
   "source": [
    "# Max function\n",
    "def highnumber(list1):\n",
    "    mymax = list1[0]\n",
    "    for row in list1:\n",
    "        if row <= mymax:\n",
    "            row = mymax \n",
    "    return mymax\n",
    "            "
   ]
  },
  {
   "cell_type": "code",
   "execution_count": 103,
   "metadata": {
    "collapsed": false
   },
   "outputs": [
    {
     "data": {
      "text/plain": [
       "23"
      ]
     },
     "execution_count": 103,
     "metadata": {},
     "output_type": "execute_result"
    }
   ],
   "source": [
    "highnumber([23,20])"
   ]
  },
  {
   "cell_type": "code",
   "execution_count": 151,
   "metadata": {
    "collapsed": false
   },
   "outputs": [],
   "source": [
    "def word():\n",
    "    a = str(input(\"Enter a word:\"))\n",
    "    a = a.upper()\n",
    "    if a.find(\"QWERTYUIOP\")>= 0 :\n",
    "        print(\"Yes input word \" + a +\" in QWERTYUIOP\")\n",
    "    else:\n",
    "        print(\"NO, word is not in QWERTYUIOP\")\n",
    "    return a       \n",
    "    "
   ]
  },
  {
   "cell_type": "code",
   "execution_count": 152,
   "metadata": {
    "collapsed": false
   },
   "outputs": [
    {
     "name": "stdout",
     "output_type": "stream",
     "text": [
      "Enter a word:an\n",
      "NO, word is not in QWERTYUIOP\n"
     ]
    },
    {
     "data": {
      "text/plain": [
       "'AN'"
      ]
     },
     "execution_count": 152,
     "metadata": {},
     "output_type": "execute_result"
    }
   ],
   "source": [
    "word()"
   ]
  },
  {
   "cell_type": "code",
   "execution_count": 180,
   "metadata": {
    "collapsed": false
   },
   "outputs": [],
   "source": [
    "# salary\n",
    "def salary():\n",
    "    a = int(input(\"Enter a option 1 or 2:\"))\n",
    "    if a == 1:\n",
    "        a = option1()\n",
    "    else:         \n",
    "        a = option2()\n",
    "        \n",
    "def option1():\n",
    "    b = 10*100\n",
    "    print(\"Salary would be:$\",b)\n",
    "    return b\n",
    "def option2():\n",
    "    c = int(input(\"Enter a number of days you worked:\"))\n",
    "    d = 102.3*(c)\n",
    "    print(\"your salary for option 2\", d)\n",
    "    return d \n",
    "    "
   ]
  },
  {
   "cell_type": "code",
   "execution_count": 162,
   "metadata": {
    "collapsed": false
   },
   "outputs": [
    {
     "name": "stdout",
     "output_type": "stream",
     "text": [
      "Enter a option 1 or 2:1\n",
      "Salary would be:$ 1000\n"
     ]
    }
   ],
   "source": [
    "# option 1\n",
    "salary()"
   ]
  },
  {
   "cell_type": "code",
   "execution_count": 179,
   "metadata": {
    "collapsed": false
   },
   "outputs": [
    {
     "name": "stdout",
     "output_type": "stream",
     "text": [
      "Enter a option 1 or 2:2\n",
      "Enter a number of days you worked:10\n",
      "your salary for option 2 1023.0\n"
     ]
    }
   ],
   "source": [
    "# option 2\n",
    "salary()"
   ]
  },
  {
   "cell_type": "code",
   "execution_count": 175,
   "metadata": {
    "collapsed": false
   },
   "outputs": [
    {
     "ename": "NameError",
     "evalue": "name 'e' is not defined",
     "output_type": "error",
     "traceback": [
      "\u001b[0;31m---------------------------------------------------------------------------\u001b[0m",
      "\u001b[0;31mNameError\u001b[0m                                 Traceback (most recent call last)",
      "\u001b[0;32m<ipython-input-175-f8ad78485eff>\u001b[0m in \u001b[0;36m<module>\u001b[0;34m()\u001b[0m\n\u001b[0;32m----> 1\u001b[0;31m \u001b[0me\u001b[0m\u001b[0;34m**\u001b[0m\u001b[0mx\u001b[0m\u001b[0;34m\u001b[0m\u001b[0m\n\u001b[0m",
      "\u001b[0;31mNameError\u001b[0m: name 'e' is not defined"
     ]
    }
   ],
   "source": []
  },
  {
   "cell_type": "code",
   "execution_count": null,
   "metadata": {
    "collapsed": true
   },
   "outputs": [],
   "source": []
  }
 ],
 "metadata": {
  "anaconda-cloud": {},
  "kernelspec": {
   "display_name": "Python [Root]",
   "language": "python",
   "name": "Python [Root]"
  },
  "language_info": {
   "codemirror_mode": {
    "name": "ipython",
    "version": 3
   },
   "file_extension": ".py",
   "mimetype": "text/x-python",
   "name": "python",
   "nbconvert_exporter": "python",
   "pygments_lexer": "ipython3",
   "version": "3.5.3"
  }
 },
 "nbformat": 4,
 "nbformat_minor": 0
}
